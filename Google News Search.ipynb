{
 "cells": [
  {
   "cell_type": "markdown",
   "id": "26430236",
   "metadata": {},
   "source": [
    "If you want to find out which websites are top ranking while searching for different topics, then this simple program can help you. My goal in making this was to find out the top websites with content for a sector or search field. I wanted to use the list to scan for further news on all topics taking the most repetitive ones as the authoritative sites. Finally, I have exported the results to excel."
   ]
  },
  {
   "cell_type": "code",
   "execution_count": null,
   "id": "95f743f5",
   "metadata": {},
   "outputs": [],
   "source": [
    "from pygooglenews import GoogleNews\n",
    "import pandas as pd"
   ]
  },
  {
   "cell_type": "code",
   "execution_count": null,
   "id": "5abebce7",
   "metadata": {},
   "outputs": [],
   "source": [
    "gn = GoogleNews()"
   ]
  },
  {
   "cell_type": "code",
   "execution_count": null,
   "id": "80610beb",
   "metadata": {},
   "outputs": [],
   "source": [
    "search = gn.search('information communication and technology, ICT')"
   ]
  },
  {
   "cell_type": "code",
   "execution_count": null,
   "id": "a8e04613",
   "metadata": {},
   "outputs": [],
   "source": [
    "search"
   ]
  },
  {
   "cell_type": "code",
   "execution_count": null,
   "id": "74afcdfc",
   "metadata": {},
   "outputs": [],
   "source": [
    "df = pd.DataFrame(search['entries'])"
   ]
  },
  {
   "cell_type": "code",
   "execution_count": null,
   "id": "31ac4b13",
   "metadata": {},
   "outputs": [],
   "source": [
    "df.head(2)"
   ]
  },
  {
   "cell_type": "code",
   "execution_count": null,
   "id": "c809f161",
   "metadata": {},
   "outputs": [],
   "source": [
    "df['source']"
   ]
  },
  {
   "cell_type": "code",
   "execution_count": null,
   "id": "d16f22d4",
   "metadata": {},
   "outputs": [],
   "source": [
    "df['site'] = df['source'].apply(lambda x: x['href'].split('/')[2])"
   ]
  },
  {
   "cell_type": "code",
   "execution_count": null,
   "id": "52601e48",
   "metadata": {},
   "outputs": [],
   "source": [
    "df['site']"
   ]
  },
  {
   "cell_type": "code",
   "execution_count": null,
   "id": "62c94df9",
   "metadata": {},
   "outputs": [],
   "source": [
    "top_sites = df['site'].value_counts()"
   ]
  },
  {
   "cell_type": "code",
   "execution_count": null,
   "id": "e28fd981",
   "metadata": {},
   "outputs": [],
   "source": [
    "top_sites"
   ]
  },
  {
   "cell_type": "code",
   "execution_count": null,
   "id": "90993db8",
   "metadata": {},
   "outputs": [],
   "source": [
    "df.to_excel('filename.xlsx')"
   ]
  },
  {
   "cell_type": "code",
   "execution_count": null,
   "id": "1ff28daf",
   "metadata": {},
   "outputs": [],
   "source": [
    "top_sites.to_excel('filename.xlsx')"
   ]
  }
 ],
 "metadata": {
  "kernelspec": {
   "display_name": "Python 3 (ipykernel)",
   "language": "python",
   "name": "python3"
  },
  "language_info": {
   "codemirror_mode": {
    "name": "ipython",
    "version": 3
   },
   "file_extension": ".py",
   "mimetype": "text/x-python",
   "name": "python",
   "nbconvert_exporter": "python",
   "pygments_lexer": "ipython3",
   "version": "3.10.11"
  }
 },
 "nbformat": 4,
 "nbformat_minor": 5
}
