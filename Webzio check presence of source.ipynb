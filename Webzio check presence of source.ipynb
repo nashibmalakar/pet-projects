{
 "cells": [
  {
   "cell_type": "markdown",
   "id": "a1351475",
   "metadata": {},
   "source": [
    "This is just a simple program to check the presence of sources in the webz.io platform through the use of its API service. The task is quite simple and functional too. It collects the sources from a google sheets file (collaborative) and checks the presence of sources and the number of entities, if present. This is again exported to the spreadsheet file."
   ]
  },
  {
   "cell_type": "code",
   "execution_count": null,
   "id": "6ee65f75",
   "metadata": {},
   "outputs": [],
   "source": [
    "import os.path\n",
    "\n",
    "from google.auth.transport.requests import Request\n",
    "from google.oauth2.credentials import Credentials\n",
    "from google_auth_oauthlib.flow import InstalledAppFlow\n",
    "from googleapiclient.discovery import build\n",
    "from googleapiclient.errors import HttpError"
   ]
  },
  {
   "cell_type": "code",
   "execution_count": null,
   "id": "e5c0b81b",
   "metadata": {},
   "outputs": [],
   "source": [
    "import webzio\n",
    "webzio.config(token=\"<enter webz token here>\")"
   ]
  },
  {
   "cell_type": "code",
   "execution_count": null,
   "id": "1d188660",
   "metadata": {},
   "outputs": [],
   "source": [
    "SCOPES = ['https://www.googleapis.com/auth/spreadsheets']"
   ]
  },
  {
   "cell_type": "code",
   "execution_count": null,
   "id": "d534da41",
   "metadata": {},
   "outputs": [],
   "source": [
    "SPREADSHEET_ID = \"<enter sheets id here>\" \n",
    "\n",
    "#https://docs.google.com/spreadsheets/d/<sheets id is found here >/edit#gid=1253230244"
   ]
  },
  {
   "cell_type": "markdown",
   "id": "28baf9f5",
   "metadata": {},
   "source": [
    "The below code does the main task - fetching data from google sheets, checking the presence of websites in the webz platform and sending the results back to google sheets as output."
   ]
  },
  {
   "cell_type": "code",
   "execution_count": null,
   "id": "250d000d",
   "metadata": {},
   "outputs": [],
   "source": [
    "def main():\n",
    "    credentials = None\n",
    "    if os.path.exists(\"token.json\"):\n",
    "        credentials = Credentials.from_authorized_user_file(\"token.json\",SCOPES)\n",
    "    if not credentials or not credentials.valid:\n",
    "        if credentials and credentials.expired and credentials.refresh_token:\n",
    "            credentials.refresh(Request())\n",
    "        else:\n",
    "            flow = InstalledAppFlow.from_client_secrets_file(\"credentials.json\", SCOPES)\n",
    "            credentials = flow.run_local_server(port=0)\n",
    "        with open(\"token.json\",'w') as token:\n",
    "            token.write(credentials.to_json())\n",
    "    try:\n",
    "        service = build('sheets','v4', credentials=credentials)\n",
    "        sheets = service.spreadsheets()\n",
    "        \n",
    "        for row in range(3,34):\n",
    "            site_address = sheets.values().get(spreadsheetId=SPREADSHEET_ID, range=f\"checkwebz!A{row}\").execute().get(\"values\")[0][0]\n",
    "           \n",
    "\n",
    "            print(f\"Processing {site_address}\")\n",
    "            output = webzio.query(\"filterWebContent\", {\"q\": f\"(site:{site_address})\",\"ts\": \"1698481624749\"})\n",
    "            num_of_results = output['totalResults']\n",
    "            if num_of_results>0:\n",
    "                sheets.values().update(spreadsheetId=SPREADSHEET_ID, range=f\"checkwebz!B{row}\", valueInputOption = \"USER_ENTERED\", body={\"values\":[[\"Yes\"]]}).execute()\n",
    "                sheets.values().update(spreadsheetId=SPREADSHEET_ID, range=f\"checkwebz!C{row}\", valueInputOption = \"USER_ENTERED\", body={\"values\":[[num_of_results]]}).execute()\n",
    "            else:\n",
    "                sheets.values().update(spreadsheetId=SPREADSHEET_ID, range=f\"checkwebz!B{row}\", valueInputOption = \"USER_ENTERED\", body={\"values\":[[\"No\"]]}).execute()\n",
    "                sheets.values().update(spreadsheetId=SPREADSHEET_ID, range=f\"checkwebz!C{row}\", valueInputOption = \"USER_ENTERED\", body={\"values\":[[num_of_results]]}).execute()\n",
    "\n",
    "   \n",
    "          \n",
    "    except HttpError as error:\n",
    "        print(error)"
   ]
  },
  {
   "cell_type": "code",
   "execution_count": null,
   "id": "a70b5c2e",
   "metadata": {},
   "outputs": [],
   "source": [
    "if __name__ == \"__main__\":\n",
    "    main()"
   ]
  }
 ],
 "metadata": {
  "kernelspec": {
   "display_name": "Python 3 (ipykernel)",
   "language": "python",
   "name": "python3"
  },
  "language_info": {
   "codemirror_mode": {
    "name": "ipython",
    "version": 3
   },
   "file_extension": ".py",
   "mimetype": "text/x-python",
   "name": "python",
   "nbconvert_exporter": "python",
   "pygments_lexer": "ipython3",
   "version": "3.11.4"
  }
 },
 "nbformat": 4,
 "nbformat_minor": 5
}
