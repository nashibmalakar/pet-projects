{
 "cells": [
  {
   "cell_type": "markdown",
   "id": "ba3dffc6",
   "metadata": {},
   "source": [
    "This one collects tweets from celebs or any search item which could be cool for any kind of quick twitter analysis. I like the section of the code that does automated scrolling to collect the data. I learned to do this with the help of a data scraping course, so a big thanks to the instructor. "
   ]
  },
  {
   "cell_type": "code",
   "execution_count": null,
   "id": "7d76471c",
   "metadata": {},
   "outputs": [],
   "source": [
    "from selenium import webdriver\n",
    "from selenium.webdriver.common.by import By\n",
    "from selenium.webdriver.common.keys import Keys\n",
    "from selenium.webdriver.support import expected_conditions as EC\n",
    "from selenium.webdriver.support.ui import WebDriverWait\n",
    "from bs4 import BeautifulSoup\n",
    "import pandas as pd\n",
    "import time"
   ]
  },
  {
   "cell_type": "code",
   "execution_count": null,
   "id": "6030af0e",
   "metadata": {},
   "outputs": [],
   "source": [
    "from selenium.webdriver.chrome.service import Service as ChromeService\n",
    "from webdriver_manager.chrome import ChromeDriverManager\n",
    "driver = webdriver.Chrome(service=ChromeService(\n",
    "    ChromeDriverManager().install()))"
   ]
  },
  {
   "cell_type": "code",
   "execution_count": null,
   "id": "0892cba8",
   "metadata": {},
   "outputs": [],
   "source": [
    "driver.get('https://twitter.com/login')\n",
    "time.sleep(2)"
   ]
  },
  {
   "cell_type": "code",
   "execution_count": null,
   "id": "dde97b29",
   "metadata": {},
   "outputs": [],
   "source": [
    "login = driver.find_elements('xpath', '/html/body/div/div/div/div[1]/div/div/div/div/div/div/div[2]/div[2]/div/div/div[2]/div[2]/div/div/div/div[5]/label/div/div[2]/div/input')"
   ]
  },
  {
   "cell_type": "code",
   "execution_count": null,
   "id": "f0347f4f",
   "metadata": {},
   "outputs": [],
   "source": [
    "#login[0].send_keys(\"username\")"
   ]
  },
  {
   "cell_type": "code",
   "execution_count": null,
   "id": "71953e4a",
   "metadata": {},
   "outputs": [],
   "source": [
    "driver.find_elements('xpath', '//*[@id=\"layers\"]/div/div/div/div/div/div/div[2]/div[2]/div/div/div[2]/div[2]/div/div/div/div[6]/div')[0].click()"
   ]
  },
  {
   "cell_type": "code",
   "execution_count": null,
   "id": "b279b3d2",
   "metadata": {},
   "outputs": [],
   "source": [
    "password = driver.find_element('xpath', '//*[@id=\"layers\"]/div/div/div/div/div/div/div[2]/div[2]/div/div/div[2]/div[2]/div[1]/div/div/div[3]/div/label/div/div[2]/div[1]/input')"
   ]
  },
  {
   "cell_type": "code",
   "execution_count": null,
   "id": "ee2032eb",
   "metadata": {},
   "outputs": [],
   "source": [
    "#password.send_keys('password')"
   ]
  },
  {
   "cell_type": "code",
   "execution_count": null,
   "id": "58373e0b",
   "metadata": {},
   "outputs": [],
   "source": [
    "driver.find_element('xpath', '//*[@id=\"layers\"]/div/div/div/div/div/div/div[2]/div[2]/div/div/div[2]/div[2]/div[2]/div/div[1]/div/div/div/div').click()"
   ]
  },
  {
   "cell_type": "code",
   "execution_count": null,
   "id": "b422c079",
   "metadata": {},
   "outputs": [],
   "source": [
    "from selenium.webdriver.common.keys import Keys"
   ]
  },
  {
   "cell_type": "code",
   "execution_count": null,
   "id": "9ff0f0e6",
   "metadata": {},
   "outputs": [],
   "source": [
    "# Actions action = new Actions(driver)\n",
    "# action.send_keys(Keys.ESCAPE)"
   ]
  },
  {
   "cell_type": "code",
   "execution_count": null,
   "id": "6bdfb715",
   "metadata": {},
   "outputs": [],
   "source": [
    "WebDriverWait(driver,10).until(EC.presence_of_element_located((By.XPATH, '//*[@id=\"react-root\"]/div/div/div[2]/main/div/div/div/div[2]/div/div[2]/div/div/div/div[1]/div/div/div/form/div[1]/div/div/div/label/div[2]/div/input')))"
   ]
  },
  {
   "cell_type": "code",
   "execution_count": null,
   "id": "060ed653",
   "metadata": {},
   "outputs": [],
   "source": [
    "search = driver.find_element('xpath', '//*[@id=\"react-root\"]/div/div/div[2]/main/div/div/div/div[2]/div/div[2]/div/div/div/div[1]/div/div/div/form/div[1]/div/div/div/label/div[2]/div/input')"
   ]
  },
  {
   "cell_type": "code",
   "execution_count": null,
   "id": "0b27e7b3",
   "metadata": {},
   "outputs": [],
   "source": [
    "celebrity = 'The Rock'"
   ]
  },
  {
   "cell_type": "code",
   "execution_count": null,
   "id": "d64dcaf1",
   "metadata": {},
   "outputs": [],
   "source": [
    "search.send_keys(celebrity)"
   ]
  },
  {
   "cell_type": "code",
   "execution_count": null,
   "id": "61994e4f",
   "metadata": {},
   "outputs": [],
   "source": [
    "search.send_keys(Keys.ENTER)\n",
    "time.sleep(2)"
   ]
  },
  {
   "cell_type": "code",
   "execution_count": null,
   "id": "1742f1f0",
   "metadata": {},
   "outputs": [],
   "source": [
    "driver.find_element('xpath', '//*[@id=\"react-root\"]/div/div/div[2]/main/div/div/div/div[1]/div/div[1]/div[1]/div[2]/nav/div/div[2]/div/div[3]/a').click()"
   ]
  },
  {
   "cell_type": "code",
   "execution_count": null,
   "id": "e8cc19f1",
   "metadata": {},
   "outputs": [],
   "source": [
    "time.sleep(2)"
   ]
  },
  {
   "cell_type": "code",
   "execution_count": null,
   "id": "cd0f82e4",
   "metadata": {},
   "outputs": [],
   "source": [
    "driver.find_element('xpath', '//*[@id=\"react-root\"]/div/div/div[2]/main/div/div/div/div[1]/div/div[3]/section/div/div/div[1]/div/div/div/div/div[2]/div[1]/div[1]/div/div[1]/a/div/div[1]/span/span[1]').click()"
   ]
  },
  {
   "cell_type": "code",
   "execution_count": null,
   "id": "c6b8a8ea",
   "metadata": {},
   "outputs": [],
   "source": [
    "soup = BeautifulSoup(driver.page_source, 'lxml')"
   ]
  },
  {
   "cell_type": "code",
   "execution_count": null,
   "id": "b0bfc13f",
   "metadata": {},
   "outputs": [],
   "source": [
    "postings = soup.find_all('div', class_ = \"css-1rynq56 r-8akbws r-krxsd3 r-dnmrzs r-1udh08x r-bcqeeo r-qvutc0 r-37j5jr r-a023e6 r-rjixqe r-16dba41 r-bnwqim\")"
   ]
  },
  {
   "cell_type": "code",
   "execution_count": null,
   "id": "265117cd",
   "metadata": {},
   "outputs": [],
   "source": [
    "tweets = []"
   ]
  },
  {
   "cell_type": "code",
   "execution_count": null,
   "id": "eeb692ba",
   "metadata": {},
   "outputs": [],
   "source": [
    "while True:\n",
    "    for post in postings:\n",
    "        tweets.append(post.text)\n",
    "    driver.execute_script('window.scrollTo(0,document.body.scrollHeight)')\n",
    "    time.sleep(1)\n",
    "    soup = BeautifulSoup(driver.page_source, 'lxml')\n",
    "    postings = soup.find_all('div', class_ = \"css-1rynq56 r-8akbws r-krxsd3 r-dnmrzs r-1udh08x r-bcqeeo r-qvutc0 r-37j5jr r-a023e6 r-rjixqe r-16dba41 r-bnwqim\")\n",
    "    tweets2 = list(set(tweets))\n",
    "    if len(tweets) > 200:\n",
    "        break"
   ]
  },
  {
   "cell_type": "code",
   "execution_count": null,
   "id": "b441a993",
   "metadata": {},
   "outputs": [],
   "source": [
    "tweets2"
   ]
  },
  {
   "cell_type": "code",
   "execution_count": null,
   "id": "a922db4f",
   "metadata": {},
   "outputs": [],
   "source": [
    "len(tweets2)"
   ]
  }
 ],
 "metadata": {
  "kernelspec": {
   "display_name": "Python 3 (ipykernel)",
   "language": "python",
   "name": "python3"
  },
  "language_info": {
   "codemirror_mode": {
    "name": "ipython",
    "version": 3
   },
   "file_extension": ".py",
   "mimetype": "text/x-python",
   "name": "python",
   "nbconvert_exporter": "python",
   "pygments_lexer": "ipython3",
   "version": "3.11.4"
  }
 },
 "nbformat": 4,
 "nbformat_minor": 5
}
