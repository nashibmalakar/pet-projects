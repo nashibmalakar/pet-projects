{
 "cells": [
  {
   "cell_type": "markdown",
   "id": "657f4514",
   "metadata": {},
   "source": [
    "This one was quite interesting and challenging for me. Here, I am extracting all the topics and their descriptions from 50 sites listed in by google search. After the data collection phase, the topics are clustered together based on their similarity and exported to a file. This helps to check which topics under the search field are being discussed. While this was primarily made to be used for market analysis, it also works for your trivial queries such as which food items are best for diabetes or what places are best to visit for your holidays."
   ]
  },
  {
   "cell_type": "code",
   "execution_count": null,
   "id": "2a5c07cd",
   "metadata": {},
   "outputs": [],
   "source": [
    "#pip install googlesearch-python\n",
    "from googlesearch import search\n",
    "import pandas as pd\n",
    "from bs4 import BeautifulSoup\n",
    "import requests\n",
    "import time\n",
    "import random"
   ]
  },
  {
   "cell_type": "code",
   "execution_count": null,
   "id": "26fa477d",
   "metadata": {},
   "outputs": [],
   "source": [
    "query = \"your search query\""
   ]
  },
  {
   "cell_type": "code",
   "execution_count": null,
   "id": "fb46277f",
   "metadata": {},
   "outputs": [],
   "source": [
    "data = search(query, num_results=50)\n",
    "#use sleep_interval = 5 if num_results exceeds 100"
   ]
  },
  {
   "cell_type": "code",
   "execution_count": null,
   "id": "4f414eb1",
   "metadata": {},
   "outputs": [],
   "source": [
    "data"
   ]
  },
  {
   "cell_type": "code",
   "execution_count": null,
   "id": "63721620",
   "metadata": {},
   "outputs": [],
   "source": [
    "web_address = list(data)"
   ]
  },
  {
   "cell_type": "code",
   "execution_count": null,
   "id": "b3e51bcd",
   "metadata": {},
   "outputs": [],
   "source": [
    "web_address"
   ]
  },
  {
   "cell_type": "code",
   "execution_count": null,
   "id": "7fe23f40",
   "metadata": {},
   "outputs": [],
   "source": [
    "web_address[0]"
   ]
  },
  {
   "cell_type": "code",
   "execution_count": null,
   "id": "4695cfcd",
   "metadata": {
    "scrolled": false
   },
   "outputs": [],
   "source": [
    "tech_list = {}\n",
    "header = ['h1','h2','h3','h4','h5']\n",
    "for item in web_address:\n",
    "    print(item)\n",
    "    count = 0\n",
    "    try:\n",
    "        page = requests.get(item, timeout=5)\n",
    "        soup = BeautifulSoup(page.text, 'lxml')\n",
    "\n",
    "        for head in header:\n",
    "            if len(soup.body.find_all(head))<5:\n",
    "                continue\n",
    "            else: # soup.find_all(head)!=\"\":\n",
    "                for key in soup.body.select(head):\n",
    "                    value = \"\"\n",
    "                    \n",
    "                    for sib in key.find_next_siblings():\n",
    "                        if sib.name==head:\n",
    "                            break\n",
    "                        else:\n",
    "                            one_para = sib.text\n",
    "                            value = value + one_para\n",
    "                            \n",
    "\n",
    "                            tech_list.update({key.text : value})\n",
    "                            \n",
    "                for key in soup.body.select('strong'):\n",
    "                    one_para = key.find_parent().text\n",
    "                    value = one_para\n",
    "                    tech_list.update({key.text : value})\n",
    "\n",
    "                      \n",
    "    except:\n",
    "\n",
    "        print('-----------------')\n",
    "        print('error:', item)\n",
    "        print('-----------------')\n",
    "        pass\n",
    "print(tech_list.keys())"
   ]
  },
  {
   "cell_type": "code",
   "execution_count": null,
   "id": "32a4aaf4",
   "metadata": {
    "scrolled": true
   },
   "outputs": [],
   "source": [
    "df = pd.DataFrame({'Topic':[''], 'Description':['']})"
   ]
  },
  {
   "cell_type": "code",
   "execution_count": null,
   "id": "d1fc99d3",
   "metadata": {},
   "outputs": [],
   "source": [
    "for item in tech_list.keys():\n",
    "    print()\n",
    "    df = df.append({'Topic':item, 'Description':tech_list[item]}, ignore_index = True)"
   ]
  },
  {
   "cell_type": "code",
   "execution_count": null,
   "id": "3ecc3731",
   "metadata": {},
   "outputs": [],
   "source": [
    "df.to_excel('filename.xlsx')"
   ]
  },
  {
   "cell_type": "code",
   "execution_count": null,
   "id": "7aa0ec0a",
   "metadata": {},
   "outputs": [],
   "source": [
    "len(tech_list)"
   ]
  },
  {
   "cell_type": "code",
   "execution_count": null,
   "id": "d688a9a3",
   "metadata": {},
   "outputs": [],
   "source": [
    "import pandas as pd\n",
    "import nltk\n",
    "import string\n",
    "from sklearn.feature_extraction.text import TfidfVectorizer\n",
    "from sklearn.cluster import KMeans\n",
    "import matplotlib.pyplot as plt\n",
    "from sklearn.manifold import MDS\n",
    "from sklearn.metrics.pairwise import cosine_similarity\n",
    "nltk.download('punkt')"
   ]
  },
  {
   "cell_type": "code",
   "execution_count": null,
   "id": "d5b11b3f",
   "metadata": {},
   "outputs": [],
   "source": [
    "vectorizer = TfidfVectorizer(stop_words = \"english\")"
   ]
  },
  {
   "cell_type": "code",
   "execution_count": null,
   "id": "4f94c2b7",
   "metadata": {},
   "outputs": [],
   "source": [
    "tfidf_matrix = vectorizer.fit_transform(tech_list)"
   ]
  },
  {
   "cell_type": "code",
   "execution_count": null,
   "id": "3f84d753",
   "metadata": {},
   "outputs": [],
   "source": [
    "num_clusters = int(len(tech_list)/5)\n",
    "num_clusters"
   ]
  },
  {
   "cell_type": "code",
   "execution_count": null,
   "id": "d16b04d2",
   "metadata": {},
   "outputs": [],
   "source": [
    "kmeans = KMeans(n_clusters=num_clusters, random_state=42)"
   ]
  },
  {
   "cell_type": "code",
   "execution_count": null,
   "id": "4427d870",
   "metadata": {},
   "outputs": [],
   "source": [
    "kmeans.fit(tfidf_matrix)"
   ]
  },
  {
   "cell_type": "code",
   "execution_count": null,
   "id": "f64af5ba",
   "metadata": {},
   "outputs": [],
   "source": [
    "cluster_labels = kmeans.labels_"
   ]
  },
  {
   "cell_type": "code",
   "execution_count": null,
   "id": "6fa8eb91",
   "metadata": {},
   "outputs": [],
   "source": [
    "clustered_data = {}"
   ]
  },
  {
   "cell_type": "code",
   "execution_count": null,
   "id": "361a6020",
   "metadata": {},
   "outputs": [],
   "source": [
    "for i, cluster_label in enumerate(cluster_labels):\n",
    "    if cluster_label not in clustered_data:\n",
    "        clustered_data[cluster_label]=[]\n",
    "    clustered_data[cluster_label].append(list(tech_list.keys())[i])"
   ]
  },
  {
   "cell_type": "code",
   "execution_count": null,
   "id": "a290ad6f",
   "metadata": {},
   "outputs": [],
   "source": [
    "for cluster_label, news_articles in clustered_data.items():\n",
    "    print(f\"Cluster {cluster_label + 1}:\")\n",
    "    for article in news_articles:\n",
    "        print(f\"- {article}\")"
   ]
  },
  {
   "cell_type": "code",
   "execution_count": null,
   "id": "08e69231",
   "metadata": {},
   "outputs": [],
   "source": [
    "clustered_data"
   ]
  },
  {
   "cell_type": "code",
   "execution_count": null,
   "id": "6939f50b",
   "metadata": {},
   "outputs": [],
   "source": [
    "df = pd.DataFrame({'Topic':[''], 'Description':['']})"
   ]
  },
  {
   "cell_type": "code",
   "execution_count": null,
   "id": "5295e0ed",
   "metadata": {},
   "outputs": [],
   "source": [
    "count = 1\n",
    "for item in clustered_data:\n",
    "    df = df.append({'Topic':'Cluster'+ str(count), 'Description':'Start'}, ignore_index=True)\n",
    "    for topic in clustered_data[item]:\n",
    "        print(str(count) + ': ' + topic)\n",
    "        print(tech_list.get(topic))\n",
    "        df = df.append({'Topic':topic, 'Description':tech_list.get(topic)}, ignore_index=True)\n",
    "    count +=1"
   ]
  },
  {
   "cell_type": "code",
   "execution_count": null,
   "id": "550d5164",
   "metadata": {},
   "outputs": [],
   "source": [
    "df"
   ]
  },
  {
   "cell_type": "code",
   "execution_count": null,
   "id": "8832cd26",
   "metadata": {},
   "outputs": [],
   "source": [
    "df.to_excel('filename.xlsx')"
   ]
  },
  {
   "cell_type": "code",
   "execution_count": null,
   "id": "00853af3",
   "metadata": {},
   "outputs": [],
   "source": []
  }
 ],
 "metadata": {
  "kernelspec": {
   "display_name": "Python 3 (ipykernel)",
   "language": "python",
   "name": "python3"
  },
  "language_info": {
   "codemirror_mode": {
    "name": "ipython",
    "version": 3
   },
   "file_extension": ".py",
   "mimetype": "text/x-python",
   "name": "python",
   "nbconvert_exporter": "python",
   "pygments_lexer": "ipython3",
   "version": "3.10.11"
  }
 },
 "nbformat": 4,
 "nbformat_minor": 5
}
